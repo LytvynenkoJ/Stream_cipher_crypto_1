{
 "cells": [
  {
   "cell_type": "code",
   "execution_count": 1,
   "id": "ade8f2d1",
   "metadata": {},
   "outputs": [],
   "source": [
    "import time"
   ]
  },
  {
   "cell_type": "markdown",
   "id": "21e290b0",
   "metadata": {},
   "source": [
    "Створюємо кільце поліномів"
   ]
  },
  {
   "cell_type": "code",
   "execution_count": 2,
   "id": "9c84656a",
   "metadata": {},
   "outputs": [
    {
     "name": "stdout",
     "output_type": "stream",
     "text": [
      "Defining x0, x1, x2, x3, x4, x5, x6, x7, x8, x9, x10, x11, x12, x13, x14, x15, x16, x17, x18, x19, x20, x21, x22, x23, x24, x25, x26, x27, x28, x29, x30, x31, x32, x33, x34, x35, x36, x37, x38, x39, x40, x41, x42, x43, x44, x45, x46, x47, x48, x49, x50, x51, x52, x53, x54, x55, x56, x57, x58, x59, x60, x61, x62, x63\n"
     ]
    }
   ],
   "source": [
    "B = BooleanPolynomialRing(64, 'x', order = 'degrevlex')\n",
    "B.inject_variables()"
   ]
  },
  {
   "cell_type": "markdown",
   "id": "865d9aab",
   "metadata": {},
   "source": [
    "Зчитуємо дані з файлів та переводимо їх у належний вигляд"
   ]
  },
  {
   "cell_type": "code",
   "execution_count": 3,
   "id": "fb4438dc",
   "metadata": {},
   "outputs": [],
   "source": [
    "f = open(\"V_Gamma_9.txt\", \"r\")\n",
    "gamma = f.readlines()[0]\n",
    "f.close()"
   ]
  },
  {
   "cell_type": "code",
   "execution_count": 4,
   "id": "01cd721f",
   "metadata": {},
   "outputs": [
    {
     "data": {
      "text/plain": [
       "'x_{0} x_{4} x_{11} x_{14} x_{15} x_{16} x_{17} x_{20} x_{21} x_{23} x_{24} x_{31} x_{36} x_{44} x_{46} x_{47} x_{48} x_{50} x_{57} x_{60} + x_{0} x_{1} x_{4} x_{11} x_{14} x_{15} x_{16} x_{17} x_{21} x_{23} x_{24} x_{31} x_{36} x_{44} x_{46} x_{47} x_{50} x_{57} x_{60} + x_{0} x_{1} x_{4} x_{14} x_{15} x_{16} x_{17} x_{21} x_{23} x_{24} x_{31} x_{36} x_{44} x_{46} x_{47} x_{50} x_{57} x_{60} + x_{0} x_{4} x_{14} x_{15} x_{16} x_{17} x_{21} x_{23} x_{24} x_{31} x_{36} x_{39} x_{44} x_{46} x_{47} x_{50} x_{57} x_{60} + x_{0} x_{4} x_{14} x_{15} x_{16} x_{17} x_{21} x_{23} x_{31} x_{36} x_{39} x_{44} x_{46} x_{47} x_{50} x_{57} x_{60} + x_{0} x_{4} x_{14} x_{15} x_{16} x_{17} x_{21} x_{23} x_{31} x_{36} x_{44} x_{46} x_{47} x_{50} x_{57} x_{58} x_{60} + x_{0} x_{4} x_{14} x_{15} x_{16} x_{17} x_{21} x_{23} x_{31} x_{36} x_{44} x_{46} x_{47} x_{50} x_{57} x_{60} + x_{4} x_{14} x_{15} x_{16} x_{17} x_{21} x_{23} x_{31} x_{36} x_{44} x_{46} x_{47} x_{50} x_{57} x_{58} x_{60} + x_{4} x_{14} x_{15} x_{16} x_{17} x_{21} x_{23} x_{31} x_{36} x_{44} x_{46} x_{47} x_{50} x_{57} x_{60} x_{62} + x_{4} x_{14} x_{15} x_{16} x_{17} x_{21} x_{23} x_{31} x_{36} x_{45} x_{46} x_{47} x_{50} x_{57} x_{60} + x_{4} x_{14} x_{15} x_{16} x_{17} x_{21} x_{23} x_{31} x_{36} x_{46} x_{47} x_{50} x_{57} x_{60} x_{62} + x_{4} x_{14} x_{15} x_{16} x_{17} x_{21} x_{23} x_{31} x_{36} x_{46} x_{47} x_{50} x_{57} x_{60} + x_{4} x_{14} x_{15} x_{16} x_{17} x_{21} x_{31} x_{36} x_{45} x_{46} x_{47} x_{50} x_{57} x_{60} + x_{4} x_{14} x_{15} x_{16} x_{17} x_{21} x_{31} x_{36} x_{46} x_{47} x_{50} x_{57} x_{60} + x_{14} x_{15} x_{16} x_{17} x_{21} x_{31} x_{36} x_{47} x_{50} x_{57} x_{60} x_{61} + x_{14} x_{15} x_{17} x_{20} x_{21} x_{31} x_{36} x_{47} x_{50} x_{57} x_{60} + x_{14} x_{15} x_{17} x_{21} x_{31} x_{36} x_{47} x_{50} x_{57} x_{60} x_{61} + x_{14} x_{15} x_{17} x_{20} x_{21} x_{31} x_{36} x_{47} x_{57} x_{60} + x_{14} x_{15} x_{17} x_{21} x_{31} x_{36} x_{47} x_{57} x_{60} + x_{14} x_{15} x_{17} x_{21} x_{36} x_{47} x_{51} x_{57} x_{60} + x_{6} x_{14} x_{15} x_{17} x_{21} x_{47} x_{57} x_{60} + x_{14} x_{15} x_{17} x_{21} x_{47} x_{51} x_{57} x_{60} + x_{6} x_{14} x_{15} x_{21} x_{47} x_{57} x_{60} + x_{14} x_{15} x_{17} x_{21} x_{47} x_{57} x_{60} + x_{14} x_{15} x_{21} x_{42} x_{47} x_{57} x_{60} + x_{14} x_{15} x_{21} x_{42} x_{57} x_{60} + x_{14} x_{15} x_{21} x_{47} x_{57} x_{60} + x_{14} x_{15} x_{21} x_{48} x_{57} x_{60} + x_{15} x_{21} x_{46} x_{57} x_{60} + x_{15} x_{21} x_{48} x_{57} x_{60} + x_{2} x_{15} x_{21} x_{60} + x_{15} x_{21} x_{46} x_{60} + x_{2} x_{15} x_{21} + x_{15} x_{21} x_{41} + x_{15} x_{21} x_{60} + x_{15} x_{21} + x_{21} x_{41} + x_{21} x_{61} + x_{61'"
      ]
     },
     "execution_count": 4,
     "metadata": {},
     "output_type": "execute_result"
    }
   ],
   "source": [
    "f = open(\"V_Filter_9.txt\", \"r\")\n",
    "filter_function = f.readlines()[0][:-1]\n",
    "f.close()\n",
    "filter_function"
   ]
  },
  {
   "cell_type": "code",
   "execution_count": 5,
   "id": "aa72ff8a",
   "metadata": {},
   "outputs": [
    {
     "data": {
      "text/plain": [
       "'x0 * x4 * x11 * x14 * x15 * x16 * x17 * x20 * x21 * x23 * x24 * x31 * x36 * x44 * x46 * x47 * x48 * x50 * x57 * x60 + x0 * x1 * x4 * x11 * x14 * x15 * x16 * x17 * x21 * x23 * x24 * x31 * x36 * x44 * x46 * x47 * x50 * x57 * x60 + x0 * x1 * x4 * x14 * x15 * x16 * x17 * x21 * x23 * x24 * x31 * x36 * x44 * x46 * x47 * x50 * x57 * x60 + x0 * x4 * x14 * x15 * x16 * x17 * x21 * x23 * x24 * x31 * x36 * x39 * x44 * x46 * x47 * x50 * x57 * x60 + x0 * x4 * x14 * x15 * x16 * x17 * x21 * x23 * x31 * x36 * x39 * x44 * x46 * x47 * x50 * x57 * x60 + x0 * x4 * x14 * x15 * x16 * x17 * x21 * x23 * x31 * x36 * x44 * x46 * x47 * x50 * x57 * x58 * x60 + x0 * x4 * x14 * x15 * x16 * x17 * x21 * x23 * x31 * x36 * x44 * x46 * x47 * x50 * x57 * x60 + x4 * x14 * x15 * x16 * x17 * x21 * x23 * x31 * x36 * x44 * x46 * x47 * x50 * x57 * x58 * x60 + x4 * x14 * x15 * x16 * x17 * x21 * x23 * x31 * x36 * x44 * x46 * x47 * x50 * x57 * x60 * x62 + x4 * x14 * x15 * x16 * x17 * x21 * x23 * x31 * x36 * x45 * x46 * x47 * x50 * x57 * x60 + x4 * x14 * x15 * x16 * x17 * x21 * x23 * x31 * x36 * x46 * x47 * x50 * x57 * x60 * x62 + x4 * x14 * x15 * x16 * x17 * x21 * x23 * x31 * x36 * x46 * x47 * x50 * x57 * x60 + x4 * x14 * x15 * x16 * x17 * x21 * x31 * x36 * x45 * x46 * x47 * x50 * x57 * x60 + x4 * x14 * x15 * x16 * x17 * x21 * x31 * x36 * x46 * x47 * x50 * x57 * x60 + x14 * x15 * x16 * x17 * x21 * x31 * x36 * x47 * x50 * x57 * x60 * x61 + x14 * x15 * x17 * x20 * x21 * x31 * x36 * x47 * x50 * x57 * x60 + x14 * x15 * x17 * x21 * x31 * x36 * x47 * x50 * x57 * x60 * x61 + x14 * x15 * x17 * x20 * x21 * x31 * x36 * x47 * x57 * x60 + x14 * x15 * x17 * x21 * x31 * x36 * x47 * x57 * x60 + x14 * x15 * x17 * x21 * x36 * x47 * x51 * x57 * x60 + x6 * x14 * x15 * x17 * x21 * x47 * x57 * x60 + x14 * x15 * x17 * x21 * x47 * x51 * x57 * x60 + x6 * x14 * x15 * x21 * x47 * x57 * x60 + x14 * x15 * x17 * x21 * x47 * x57 * x60 + x14 * x15 * x21 * x42 * x47 * x57 * x60 + x14 * x15 * x21 * x42 * x57 * x60 + x14 * x15 * x21 * x47 * x57 * x60 + x14 * x15 * x21 * x48 * x57 * x60 + x15 * x21 * x46 * x57 * x60 + x15 * x21 * x48 * x57 * x60 + x2 * x15 * x21 * x60 + x15 * x21 * x46 * x60 + x2 * x15 * x21 + x15 * x21 * x41 + x15 * x21 * x60 + x15 * x21 + x21 * x41 + x21 * x61 + x61'"
      ]
     },
     "execution_count": 5,
     "metadata": {},
     "output_type": "execute_result"
    }
   ],
   "source": [
    "filter_function=filter_function.replace(\"_{\",\"\")\n",
    "filter_function=filter_function.replace(\"} x\",\" * x\")\n",
    "filter_function=filter_function.replace(\"} +\",\" +\")\n",
    "filter_function"
   ]
  },
  {
   "cell_type": "markdown",
   "id": "34699c0f",
   "metadata": {},
   "source": [
    "Працюємо з наступними функціями f та p"
   ]
  },
  {
   "cell_type": "code",
   "execution_count": 6,
   "id": "c135fbd5",
   "metadata": {},
   "outputs": [],
   "source": [
    "f = x0 * x4 * x11 * x14 * x15 * x16 * x17 * x20 * x21 * x23 * x24 * x31 * x36 * x44 * x46 * x47 * x48 * x50 * x57 * x60 + x0 * x1 * x4 * x11 * x14 * x15 * x16 * x17 * x21 * x23 * x24 * x31 * x36 * x44 * x46 * x47 * x50 * x57 * x60 + x0 * x1 * x4 * x14 * x15 * x16 * x17 * x21 * x23 * x24 * x31 * x36 * x44 * x46 * x47 * x50 * x57 * x60 + x0 * x4 * x14 * x15 * x16 * x17 * x21 * x23 * x24 * x31 * x36 * x39 * x44 * x46 * x47 * x50 * x57 * x60 + x0 * x4 * x14 * x15 * x16 * x17 * x21 * x23 * x31 * x36 * x39 * x44 * x46 * x47 * x50 * x57 * x60 + x0 * x4 * x14 * x15 * x16 * x17 * x21 * x23 * x31 * x36 * x44 * x46 * x47 * x50 * x57 * x58 * x60 + x0 * x4 * x14 * x15 * x16 * x17 * x21 * x23 * x31 * x36 * x44 * x46 * x47 * x50 * x57 * x60 + x4 * x14 * x15 * x16 * x17 * x21 * x23 * x31 * x36 * x44 * x46 * x47 * x50 * x57 * x58 * x60 + x4 * x14 * x15 * x16 * x17 * x21 * x23 * x31 * x36 * x44 * x46 * x47 * x50 * x57 * x60 * x62 + x4 * x14 * x15 * x16 * x17 * x21 * x23 * x31 * x36 * x45 * x46 * x47 * x50 * x57 * x60 + x4 * x14 * x15 * x16 * x17 * x21 * x23 * x31 * x36 * x46 * x47 * x50 * x57 * x60 * x62 + x4 * x14 * x15 * x16 * x17 * x21 * x23 * x31 * x36 * x46 * x47 * x50 * x57 * x60 + x4 * x14 * x15 * x16 * x17 * x21 * x31 * x36 * x45 * x46 * x47 * x50 * x57 * x60 + x4 * x14 * x15 * x16 * x17 * x21 * x31 * x36 * x46 * x47 * x50 * x57 * x60 + x14 * x15 * x16 * x17 * x21 * x31 * x36 * x47 * x50 * x57 * x60 * x61 + x14 * x15 * x17 * x20 * x21 * x31 * x36 * x47 * x50 * x57 * x60 + x14 * x15 * x17 * x21 * x31 * x36 * x47 * x50 * x57 * x60 * x61 + x14 * x15 * x17 * x20 * x21 * x31 * x36 * x47 * x57 * x60 + x14 * x15 * x17 * x21 * x31 * x36 * x47 * x57 * x60 + x14 * x15 * x17 * x21 * x36 * x47 * x51 * x57 * x60 + x6 * x14 * x15 * x17 * x21 * x47 * x57 * x60 + x14 * x15 * x17 * x21 * x47 * x51 * x57 * x60 + x6 * x14 * x15 * x21 * x47 * x57 * x60 + x14 * x15 * x17 * x21 * x47 * x57 * x60 + x14 * x15 * x21 * x42 * x47 * x57 * x60 + x14 * x15 * x21 * x42 * x57 * x60 + x14 * x15 * x21 * x47 * x57 * x60 + x14 * x15 * x21 * x48 * x57 * x60 + x15 * x21 * x46 * x57 * x60 + x15 * x21 * x48 * x57 * x60 + x2 * x15 * x21 * x60 + x15 * x21 * x46 * x60 + x2 * x15 * x21 + x15 * x21 * x41 + x15 * x21 * x60 + x15 * x21 + x21 * x41 + x21 * x61 + x61"
   ]
  },
  {
   "cell_type": "code",
   "execution_count": 7,
   "id": "01d8b1b4",
   "metadata": {},
   "outputs": [],
   "source": [
    "p = 'x^64 + x^63 + x^62 + x^60 + x^59 + x^58 + x^57 + x^56 + x^53 + x^50 + x^47 + x^45 + x^44 + x^43 + x^42 + x^41 + x^40 + x^39 + x^38 + x^37 + x^36 + x^34 + x^32 + x^30 + x^28 + x^24 + x^18 + x^15 + x^14 + x^13 + x^11 + x^9 + x^6 + x^4 + 1'"
   ]
  },
  {
   "cell_type": "markdown",
   "id": "0859088b",
   "metadata": {},
   "source": [
    "Будуємо базис Грьобнера ідеалу \\< f \\> та \\< f ⊕ 1 \\>"
   ]
  },
  {
   "cell_type": "code",
   "execution_count": 8,
   "id": "2f38fc89",
   "metadata": {},
   "outputs": [
    {
     "name": "stdout",
     "output_type": "stream",
     "text": [
      "Polynomial Sequence with 10047 Polynomials in 31 Variables\n",
      "10.0 m.  45.74969673156738 s.\n"
     ]
    }
   ],
   "source": [
    "start = time.time()\n",
    "GB_f = Ideal(f).groebner_basis()\n",
    "end = time.time()\n",
    "print(GB_f)\n",
    "print(str((end - start)//60) + \" m.  \" + str((end - start)%60) + \" s.\")"
   ]
  },
  {
   "cell_type": "code",
   "execution_count": 9,
   "id": "e1d498bd",
   "metadata": {},
   "outputs": [
    {
     "name": "stdout",
     "output_type": "stream",
     "text": [
      "Polynomial Sequence with 12031 Polynomials in 31 Variables\n",
      "3.0 m.  46.75503945350647 s.\n"
     ]
    }
   ],
   "source": [
    "start = time.time()\n",
    "GB_f1 = Ideal(f + 1).groebner_basis(faugere=False, linear_algebra_in_last_block=False)\n",
    "end = time.time()\n",
    "print(GB_f1)\n",
    "print(str((end - start)//60) + \" m.  \" + str((end - start)%60) + \" s.\")"
   ]
  },
  {
   "cell_type": "markdown",
   "id": "eeeba56f",
   "metadata": {},
   "source": [
    "Шукаємо поліноми мінімального степеня"
   ]
  },
  {
   "cell_type": "code",
   "execution_count": 10,
   "id": "fd75f428",
   "metadata": {},
   "outputs": [],
   "source": [
    "min_deg = min([p.deg() for p in GB_f + GB_f1])\n",
    "min_polys = [p for p in GB_f + GB_f1 if p.deg() == min_deg]"
   ]
  },
  {
   "cell_type": "code",
   "execution_count": 11,
   "id": "eec2083c",
   "metadata": {},
   "outputs": [
    {
     "data": {
      "text/plain": [
       "[x61*x21 + x61, x61*x21 + x21 + x61 + 1]"
      ]
     },
     "execution_count": 11,
     "metadata": {},
     "output_type": "execute_result"
    }
   ],
   "source": [
    "min_polys"
   ]
  },
  {
   "cell_type": "markdown",
   "id": "1713ba94",
   "metadata": {},
   "source": [
    "Будуємо супровідну матрицю"
   ]
  },
  {
   "cell_type": "code",
   "execution_count": 12,
   "id": "1eb70d53",
   "metadata": {},
   "outputs": [],
   "source": [
    "m = B['x'](p)\n",
    "C = companion_matrix(m, format = 'bottom')"
   ]
  },
  {
   "cell_type": "markdown",
   "id": "d48d9dc3",
   "metadata": {},
   "source": [
    "Задаємо стан, оновлюємо його відносно змінних та будуємо систему рівнянь"
   ]
  },
  {
   "cell_type": "code",
   "execution_count": 23,
   "id": "4f9cc068",
   "metadata": {},
   "outputs": [],
   "source": [
    "curr_state = vector(B, (x0, x1, x2, x3, x4, x5, x6, x7, x8, x9, x10, x11, x12, x13, x14, x15, x16, x17, x18, x19, x20, x21, x22,\n",
    "                        x23, x24, x25, x26, x27, x28, x29, x30, x31, x32, x33, x34, x35, x36, x37, x38, x39, x40, x41, x42, x43,\n",
    "                        x44, x45, x46, x47, x48, x49, x50, x51, x52, x53, x54, x55, x56, x57, x58, x59, x60, x61, x62, x63))"
   ]
  },
  {
   "cell_type": "code",
   "execution_count": 24,
   "id": "220ddabb",
   "metadata": {},
   "outputs": [
    {
     "name": "stdout",
     "output_type": "stream",
     "text": [
      "2.195880174636841 sec\n"
     ]
    }
   ],
   "source": [
    "result_system=[]\n",
    "\n",
    "start = time.time()\n",
    "\n",
    "for i in range(800):\n",
    "    curr_state=C*curr_state\n",
    "    poly=min_polys[int(gamma[i])]\n",
    "    result_system.append(poly(*curr_state))\n",
    "    \n",
    "end = time.time()\n",
    "print(str(end - start) + \" sec\")"
   ]
  },
  {
   "cell_type": "code",
   "execution_count": 25,
   "id": "05e1ad83",
   "metadata": {},
   "outputs": [
    {
     "name": "stdout",
     "output_type": "stream",
     "text": [
      "x62*x22 + x62 = 0\n",
      "x63*x23 + x63 = 0\n",
      "x24*x0 + x24*x4 + x24*x6 + x24*x9 + x24*x11 + x24*x13 + x24*x14 + x24*x15 + x24*x18 + x28*x24 + x30*x24 + x32*x24 + x34*x24 + x36*x24 + x37*x24 + x38*x24 + x39*x24 + x40*x24 + x41*x24 + x42*x24 + x43*x24 + x44*x24 + x45*x24 + x47*x24 + x50*x24 + x53*x24 + x56*x24 + x57*x24 + x58*x24 + x59*x24 + x60*x24 + x62*x24 + x63*x24 + x0 + x4 + x6 + x9 + x11 + x13 + x14 + x15 + x18 + x28 + x30 + x32 + x34 + x36 + x37 + x38 + x39 + x40 + x41 + x42 + x43 + x44 + x45 + x47 + x50 + x53 + x56 + x57 + x58 + x59 + x60 + x62 + x63 = 0\n",
      "x25*x0 + x25*x1 + x25*x4 + x25*x5 + x25*x6 + x25*x7 + x25*x9 + x25*x10 + x25*x11 + x25*x12 + x25*x13 + x25*x16 + x25*x18 + x25*x19 + x25*x24 + x28*x25 + x29*x25 + x30*x25 + x31*x25 + x32*x25 + x33*x25 + x34*x25 + x35*x25 + x36*x25 + x46*x25 + x47*x25 + x48*x25 + x50*x25 + x51*x25 + x53*x25 + x54*x25 + x56*x25 + x61*x25 + x62*x25 + x0 + x1 + x4 + x5 + x6 + x7 + x9 + x10 + x11 + x12 + x13 + x16 + x18 + x19 + x24 + x25 + x28 + x29 + x30 + x31 + x32 + x33 + x34 + x35 + x36 + x46 + x47 + x48 + x50 + x51 + x53 + x54 + x56 + x61 + x62 + 1 = 1\n",
      "x26*x1 + x26*x2 + x26*x5 + x26*x6 + x26*x7 + x26*x8 + x26*x10 + x26*x11 + x26*x12 + x26*x13 + x26*x14 + x26*x17 + x26*x19 + x26*x20 + x26*x25 + x29*x26 + x30*x26 + x31*x26 + x32*x26 + x33*x26 + x34*x26 + x35*x26 + x36*x26 + x37*x26 + x47*x26 + x48*x26 + x49*x26 + x51*x26 + x52*x26 + x54*x26 + x55*x26 + x57*x26 + x62*x26 + x63*x26 + x1 + x2 + x5 + x6 + x7 + x8 + x10 + x11 + x12 + x13 + x14 + x17 + x19 + x20 + x25 + x29 + x30 + x31 + x32 + x33 + x34 + x35 + x36 + x37 + x47 + x48 + x49 + x51 + x52 + x54 + x55 + x57 + x62 + x63 = 0\n",
      "x27*x0 + x27*x2 + x27*x3 + x27*x4 + x27*x7 + x27*x8 + x27*x12 + x27*x20 + x27*x21 + x27*x24 + x27*x26 + x28*x27 + x31*x27 + x33*x27 + x35*x27 + x39*x27 + x40*x27 + x41*x27 + x42*x27 + x43*x27 + x44*x27 + x45*x27 + x47*x27 + x48*x27 + x49*x27 + x52*x27 + x55*x27 + x57*x27 + x59*x27 + x60*x27 + x62*x27 + x0 + x2 + x3 + x4 + x7 + x8 + x12 + x20 + x21 + x24 + x26 + x27 + x28 + x31 + x33 + x35 + x39 + x40 + x41 + x42 + x43 + x44 + x45 + x47 + x48 + x49 + x52 + x55 + x57 + x59 + x60 + x62 + 1 = 1\n",
      "x28*x1 + x28*x3 + x28*x4 + x28*x5 + x28*x8 + x28*x9 + x28*x13 + x28*x21 + x28*x22 + x28*x25 + x28*x27 + x29*x28 + x32*x28 + x34*x28 + x36*x28 + x40*x28 + x41*x28 + x42*x28 + x43*x28 + x44*x28 + x45*x28 + x46*x28 + x48*x28 + x49*x28 + x50*x28 + x53*x28 + x56*x28 + x58*x28 + x60*x28 + x61*x28 + x63*x28 + x1 + x3 + x4 + x5 + x8 + x9 + x13 + x21 + x22 + x25 + x27 + x28 + x29 + x32 + x34 + x36 + x40 + x41 + x42 + x43 + x44 + x45 + x46 + x48 + x49 + x50 + x53 + x56 + x58 + x60 + x61 + x63 + 1 = 1\n",
      "x29*x0 + x29*x2 + x29*x5 + x29*x10 + x29*x11 + x29*x13 + x29*x15 + x29*x18 + x29*x22 + x29*x23 + x29*x24 + x29*x26 + x32*x29 + x33*x29 + x34*x29 + x35*x29 + x36*x29 + x38*x29 + x39*x29 + x40*x29 + x46*x29 + x49*x29 + x51*x29 + x53*x29 + x54*x29 + x56*x29 + x58*x29 + x60*x29 + x61*x29 + x63*x29 + x0 + x2 + x5 + x10 + x11 + x13 + x15 + x18 + x22 + x23 + x24 + x26 + x29 + x32 + x33 + x34 + x35 + x36 + x38 + x39 + x40 + x46 + x49 + x51 + x53 + x54 + x56 + x58 + x60 + x61 + x63 + 1 = 1\n",
      "x30*x0 + x30*x1 + x30*x3 + x30*x4 + x30*x9 + x30*x12 + x30*x13 + x30*x15 + x30*x16 + x30*x18 + x30*x19 + x30*x23 + x30*x25 + x30*x27 + x30*x28 + x32*x30 + x33*x30 + x35*x30 + x38*x30 + x42*x30 + x43*x30 + x44*x30 + x45*x30 + x52*x30 + x53*x30 + x54*x30 + x55*x30 + x56*x30 + x58*x30 + x60*x30 + x61*x30 + x63*x30 + x0 + x1 + x3 + x4 + x9 + x12 + x13 + x15 + x16 + x18 + x19 + x23 + x25 + x27 + x28 + x30 + x32 + x33 + x35 + x38 + x42 + x43 + x44 + x45 + x52 + x53 + x54 + x55 + x56 + x58 + x60 + x61 + x63 + 1 = 1\n",
      "x31*x0 + x31*x1 + x31*x2 + x31*x5 + x31*x6 + x31*x9 + x31*x10 + x31*x11 + x31*x15 + x31*x16 + x31*x17 + x31*x18 + x31*x19 + x31*x20 + x31*x26 + x31*x29 + x31*x30 + x32*x31 + x33*x31 + x37*x31 + x38*x31 + x40*x31 + x41*x31 + x42*x31 + x46*x31 + x47*x31 + x50*x31 + x54*x31 + x55*x31 + x58*x31 + x60*x31 + x61*x31 + x63*x31 + x0 + x1 + x2 + x5 + x6 + x9 + x10 + x11 + x15 + x16 + x17 + x18 + x19 + x20 + x26 + x29 + x30 + x32 + x33 + x37 + x38 + x40 + x41 + x42 + x46 + x47 + x50 + x54 + x55 + x58 + x60 + x61 + x63 = 0\n"
     ]
    }
   ],
   "source": [
    "for i in range(10):\n",
    "    print(str(result_system[i]) + \" = \" + str(gamma[i]))"
   ]
  },
  {
   "cell_type": "markdown",
   "id": "b47a1c68",
   "metadata": {},
   "source": [
    "Розв'язуємо отриману систему"
   ]
  },
  {
   "cell_type": "code",
   "execution_count": 26,
   "id": "06b04529",
   "metadata": {},
   "outputs": [
    {
     "name": "stdout",
     "output_type": "stream",
     "text": [
      "Polynomial Sequence with 64 Polynomials in 64 Variables\n",
      "13.0 m.  2.334791421890259 s.\n"
     ]
    }
   ],
   "source": [
    "start = time.time()\n",
    "GB_system = Ideal(result_system).groebner_basis()\n",
    "end = time.time()\n",
    "print(GB_system)\n",
    "print(str((end - start)//60) + \" m.  \" + str((end - start)%60) + \" s.\")"
   ]
  },
  {
   "cell_type": "code",
   "execution_count": 27,
   "id": "39532940",
   "metadata": {},
   "outputs": [
    {
     "name": "stdout",
     "output_type": "stream",
     "text": [
      "x0 + 1\n",
      "x1 + 1\n",
      "x2\n",
      "x3 + 1\n",
      "x4 + 1\n",
      "x5\n",
      "x6 + 1\n",
      "x7\n",
      "x8\n",
      "x9 + 1\n",
      "x10 + 1\n",
      "x11\n",
      "x12\n",
      "x13\n",
      "x14\n",
      "x15\n",
      "x16 + 1\n",
      "x17\n",
      "x18 + 1\n",
      "x19\n",
      "x20\n",
      "x21\n",
      "x22 + 1\n",
      "x23\n",
      "x24\n",
      "x25 + 1\n",
      "x26 + 1\n",
      "x27\n",
      "x28\n",
      "x29 + 1\n",
      "x30 + 1\n",
      "x31\n",
      "x32 + 1\n",
      "x33\n",
      "x34\n",
      "x35 + 1\n",
      "x36\n",
      "x37\n",
      "x38 + 1\n",
      "x39 + 1\n",
      "x40 + 1\n",
      "x41\n",
      "x42\n",
      "x43\n",
      "x44 + 1\n",
      "x45 + 1\n",
      "x46\n",
      "x47 + 1\n",
      "x48 + 1\n",
      "x49 + 1\n",
      "x50 + 1\n",
      "x51\n",
      "x52\n",
      "x53\n",
      "x54 + 1\n",
      "x55\n",
      "x56 + 1\n",
      "x57\n",
      "x58\n",
      "x59\n",
      "x60\n",
      "x61\n",
      "x62 + 1\n",
      "x63\n"
     ]
    }
   ],
   "source": [
    "for i in range(64):\n",
    "    print(GB_system[i])"
   ]
  },
  {
   "cell_type": "code",
   "execution_count": 28,
   "id": "3161a6a2",
   "metadata": {},
   "outputs": [],
   "source": [
    "prob_init_state = [int(p.has_constant_part()) for p in GB_system]"
   ]
  },
  {
   "cell_type": "code",
   "execution_count": 29,
   "id": "13282850",
   "metadata": {},
   "outputs": [
    {
     "name": "stdout",
     "output_type": "stream",
     "text": [
      "[1, 1, 0, 1, 1, 0, 1, 0, 0, 1, 1, 0, 0, 0, 0, 0, 1, 0, 1, 0, 0, 0, 1, 0, 0, 1, 1, 0, 0, 1, 1, 0, 1, 0, 0, 1, 0, 0, 1, 1, 1, 0, 0, 0, 1, 1, 0, 1, 1, 1, 1, 0, 0, 0, 1, 0, 1, 0, 0, 0, 0, 0, 1, 0]\n"
     ]
    }
   ],
   "source": [
    "print(prob_init_state)"
   ]
  },
  {
   "cell_type": "markdown",
   "id": "b3ec9277",
   "metadata": {},
   "source": [
    "Перевіряємо чи правильно ми знайшли розв'язок"
   ]
  },
  {
   "cell_type": "code",
   "execution_count": 30,
   "id": "ed934178",
   "metadata": {},
   "outputs": [],
   "source": [
    "curr_state = vector(B, prob_init_state)\n",
    "prob_gamma = ''\n",
    "l = len(gamma)"
   ]
  },
  {
   "cell_type": "code",
   "execution_count": 31,
   "id": "48dd22d7",
   "metadata": {},
   "outputs": [],
   "source": [
    "while len(prob_gamma) < l:\n",
    "    curr_state = C*curr_state\n",
    "    prob_gamma += str(f(*curr_state))"
   ]
  },
  {
   "cell_type": "code",
   "execution_count": 32,
   "id": "c110c87e",
   "metadata": {},
   "outputs": [
    {
     "data": {
      "text/plain": [
       "True"
      ]
     },
     "execution_count": 32,
     "metadata": {},
     "output_type": "execute_result"
    }
   ],
   "source": [
    "prob_gamma == gamma"
   ]
  },
  {
   "cell_type": "code",
   "execution_count": null,
   "id": "ff3d2506",
   "metadata": {},
   "outputs": [],
   "source": []
  }
 ],
 "metadata": {
  "kernelspec": {
   "display_name": "SageMath 9.5",
   "language": "sage",
   "name": "sagemath"
  },
  "language_info": {
   "codemirror_mode": {
    "name": "ipython",
    "version": 3
   },
   "file_extension": ".py",
   "mimetype": "text/x-python",
   "name": "python",
   "nbconvert_exporter": "python",
   "pygments_lexer": "ipython3",
   "version": "3.10.6"
  }
 },
 "nbformat": 4,
 "nbformat_minor": 5
}
